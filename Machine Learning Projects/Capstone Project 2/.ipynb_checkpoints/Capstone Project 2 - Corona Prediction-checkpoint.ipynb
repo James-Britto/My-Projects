{
 "cells": [
  {
   "cell_type": "markdown",
   "id": "177f80e7",
   "metadata": {},
   "source": [
    "# <center><font color='Green'>Capstone Project 2"
   ]
  },
  {
   "cell_type": "markdown",
   "id": "c40d1258",
   "metadata": {},
   "source": [
    "Objective: The aim of this project is to choose a best Machine Learning model to predict the corona based on the symptoms from the test sample data.\n",
    "\n",
    "Section 1: Questions to Answer\n",
    "\n",
    "- What questions do you want to answer?\n",
    "\n",
    "   I want to find the answers for:\n",
    "   - What are the prominent symptoms of corona infection?\n",
    "   - Does the infection has any relation with age of a person?\n",
    "   - Does contact with covid patients influence in corona test result positiveness?\n",
    "\n",
    "- Why is your proposal important in today’s world? How predicting a disease accurately can improve medical treatment?\n",
    "   - `A speedy and accurate diagnosis of COVID-19 is made possible by effective SARS-CoV-2 screening, which can also lessen the burden on healthcare systems. There have been built prediction models that assess the likelihood of infection by combining a number of parameters. These are meant to help medical professionals all over the world treat patients, especially in light of the scarcity of healthcare resources.`\n",
    "   \n",
    "   - `My proposal definitely has importance in today's world. The covid virus is rapidly spreading in nature. The infection could  increase rapidly in short span of time. Healthcare professionals are take samples from the individuals and analyse it in labs in order to confirm whethe the person infected with corona virus or not. It is a tedious process and time consuming. However, with advancement in technology, espacially in AI and machine learning, we can predict the whether a person has corona or not with some symptoms (factors). It can help the healthcare professionals by reducing their workload. ML models can help government in term of finance by reducing the spent on individuals who are working in analysing the test samples.`\n",
    "\n",
    "How is it going to impact the medical field when it comes to effective screening and reducing health care burden. \n",
    "    If any, what is the gap in the knowledge or how your proposed method can be helpful if required in future for any other disease.\n",
    "\n",
    "   - `My proposed method can predict the corona results effeciantly. If a similar kind of situation arises in the future, my model can be used with some parameter tuning and train with new disease data. It is easily scalable and can quickly predict the result of corona test samples.`\n",
    "\n",
    "The following list describes each of the dataset’s features used by the model: \n",
    "\n",
    "\n",
    "A. Basic information: \n",
    "\n",
    "1. ID (Individual ID)\n",
    "\n",
    "2. Sex (male/female). \n",
    "\n",
    "3. Age ≥60 above years (true/false) \n",
    "\n",
    "4. Test date (date when tested for COVID)\n",
    "\n",
    "\n",
    "B. Symptoms: \n",
    "\n",
    "5. Cough (true/false).\n",
    "\n",
    "6. Fever (true/false). \n",
    "\n",
    "7. Sore throat (true/false). \n",
    "\n",
    "8. Shortness of breath (true/false). \n",
    "\n",
    "9. Headache (true/false). \n",
    "\n",
    "\n",
    "C. Other information: \n",
    "\n",
    "10. Known contact with an individual confirmed to have COVID-19 (true/false).\n",
    "\n",
    "\n",
    "D. Covid report\n",
    "\n",
    "11. Corona positive or negative\n",
    "\n",
    "\n",
    "Dataset: corona_tested_006"
   ]
  },
  {
   "cell_type": "code",
   "execution_count": 1,
   "id": "b2501407",
   "metadata": {},
   "outputs": [],
   "source": [
    "import pandas as pd # neccessary libraries have been imported\n",
    "import numpy as np\n",
    "import matplotlib.pyplot as plt\n",
    "import seaborn as sns\n",
    "import missingno as msno\n",
    "import sklearn.preprocessing\n",
    "import warnings\n",
    "warnings.filterwarnings('ignore')"
   ]
  },
  {
   "cell_type": "code",
   "execution_count": 2,
   "id": "a47e9aed",
   "metadata": {
    "scrolled": false
   },
   "outputs": [
    {
     "ename": "FileNotFoundError",
     "evalue": "[Errno 2] No such file or directory: 'corona_tested_006.csv'",
     "output_type": "error",
     "traceback": [
      "\u001b[1;31m---------------------------------------------------------------------------\u001b[0m",
      "\u001b[1;31mFileNotFoundError\u001b[0m                         Traceback (most recent call last)",
      "\u001b[1;32m~\\AppData\\Roaming\\Python\\Python311\\site-packages\\pip\\ipykernel_15644\\2390685731.py\u001b[0m in \u001b[0;36m<module>\u001b[1;34m\u001b[0m\n\u001b[1;32m----> 1\u001b[1;33m \u001b[0mdf\u001b[0m\u001b[1;33m=\u001b[0m\u001b[0mpd\u001b[0m\u001b[1;33m.\u001b[0m\u001b[0mread_csv\u001b[0m\u001b[1;33m(\u001b[0m\u001b[1;34m'corona_tested_006.csv'\u001b[0m\u001b[1;33m,\u001b[0m\u001b[0mindex_col\u001b[0m\u001b[1;33m=\u001b[0m\u001b[1;34m'Ind_ID'\u001b[0m\u001b[1;33m,\u001b[0m\u001b[0mna_values\u001b[0m\u001b[1;33m=\u001b[0m\u001b[1;34m'None'\u001b[0m\u001b[1;33m,\u001b[0m\u001b[0mparse_dates\u001b[0m\u001b[1;33m=\u001b[0m\u001b[1;32mTrue\u001b[0m\u001b[1;33m)\u001b[0m \u001b[1;31m#dataset read using pandas\u001b[0m\u001b[1;33m\u001b[0m\u001b[1;33m\u001b[0m\u001b[0m\n\u001b[0m",
      "\u001b[1;32m~\\anaconda3\\lib\\site-packages\\pandas\\util\\_decorators.py\u001b[0m in \u001b[0;36mwrapper\u001b[1;34m(*args, **kwargs)\u001b[0m\n\u001b[0;32m    309\u001b[0m                     \u001b[0mstacklevel\u001b[0m\u001b[1;33m=\u001b[0m\u001b[0mstacklevel\u001b[0m\u001b[1;33m,\u001b[0m\u001b[1;33m\u001b[0m\u001b[1;33m\u001b[0m\u001b[0m\n\u001b[0;32m    310\u001b[0m                 )\n\u001b[1;32m--> 311\u001b[1;33m             \u001b[1;32mreturn\u001b[0m \u001b[0mfunc\u001b[0m\u001b[1;33m(\u001b[0m\u001b[1;33m*\u001b[0m\u001b[0margs\u001b[0m\u001b[1;33m,\u001b[0m \u001b[1;33m**\u001b[0m\u001b[0mkwargs\u001b[0m\u001b[1;33m)\u001b[0m\u001b[1;33m\u001b[0m\u001b[1;33m\u001b[0m\u001b[0m\n\u001b[0m\u001b[0;32m    312\u001b[0m \u001b[1;33m\u001b[0m\u001b[0m\n\u001b[0;32m    313\u001b[0m         \u001b[1;32mreturn\u001b[0m \u001b[0mwrapper\u001b[0m\u001b[1;33m\u001b[0m\u001b[1;33m\u001b[0m\u001b[0m\n",
      "\u001b[1;32m~\\anaconda3\\lib\\site-packages\\pandas\\io\\parsers\\readers.py\u001b[0m in \u001b[0;36mread_csv\u001b[1;34m(filepath_or_buffer, sep, delimiter, header, names, index_col, usecols, squeeze, prefix, mangle_dupe_cols, dtype, engine, converters, true_values, false_values, skipinitialspace, skiprows, skipfooter, nrows, na_values, keep_default_na, na_filter, verbose, skip_blank_lines, parse_dates, infer_datetime_format, keep_date_col, date_parser, dayfirst, cache_dates, iterator, chunksize, compression, thousands, decimal, lineterminator, quotechar, quoting, doublequote, escapechar, comment, encoding, encoding_errors, dialect, error_bad_lines, warn_bad_lines, on_bad_lines, delim_whitespace, low_memory, memory_map, float_precision, storage_options)\u001b[0m\n\u001b[0;32m    676\u001b[0m     \u001b[0mkwds\u001b[0m\u001b[1;33m.\u001b[0m\u001b[0mupdate\u001b[0m\u001b[1;33m(\u001b[0m\u001b[0mkwds_defaults\u001b[0m\u001b[1;33m)\u001b[0m\u001b[1;33m\u001b[0m\u001b[1;33m\u001b[0m\u001b[0m\n\u001b[0;32m    677\u001b[0m \u001b[1;33m\u001b[0m\u001b[0m\n\u001b[1;32m--> 678\u001b[1;33m     \u001b[1;32mreturn\u001b[0m \u001b[0m_read\u001b[0m\u001b[1;33m(\u001b[0m\u001b[0mfilepath_or_buffer\u001b[0m\u001b[1;33m,\u001b[0m \u001b[0mkwds\u001b[0m\u001b[1;33m)\u001b[0m\u001b[1;33m\u001b[0m\u001b[1;33m\u001b[0m\u001b[0m\n\u001b[0m\u001b[0;32m    679\u001b[0m \u001b[1;33m\u001b[0m\u001b[0m\n\u001b[0;32m    680\u001b[0m \u001b[1;33m\u001b[0m\u001b[0m\n",
      "\u001b[1;32m~\\anaconda3\\lib\\site-packages\\pandas\\io\\parsers\\readers.py\u001b[0m in \u001b[0;36m_read\u001b[1;34m(filepath_or_buffer, kwds)\u001b[0m\n\u001b[0;32m    573\u001b[0m \u001b[1;33m\u001b[0m\u001b[0m\n\u001b[0;32m    574\u001b[0m     \u001b[1;31m# Create the parser.\u001b[0m\u001b[1;33m\u001b[0m\u001b[1;33m\u001b[0m\u001b[0m\n\u001b[1;32m--> 575\u001b[1;33m     \u001b[0mparser\u001b[0m \u001b[1;33m=\u001b[0m \u001b[0mTextFileReader\u001b[0m\u001b[1;33m(\u001b[0m\u001b[0mfilepath_or_buffer\u001b[0m\u001b[1;33m,\u001b[0m \u001b[1;33m**\u001b[0m\u001b[0mkwds\u001b[0m\u001b[1;33m)\u001b[0m\u001b[1;33m\u001b[0m\u001b[1;33m\u001b[0m\u001b[0m\n\u001b[0m\u001b[0;32m    576\u001b[0m \u001b[1;33m\u001b[0m\u001b[0m\n\u001b[0;32m    577\u001b[0m     \u001b[1;32mif\u001b[0m \u001b[0mchunksize\u001b[0m \u001b[1;32mor\u001b[0m \u001b[0miterator\u001b[0m\u001b[1;33m:\u001b[0m\u001b[1;33m\u001b[0m\u001b[1;33m\u001b[0m\u001b[0m\n",
      "\u001b[1;32m~\\anaconda3\\lib\\site-packages\\pandas\\io\\parsers\\readers.py\u001b[0m in \u001b[0;36m__init__\u001b[1;34m(self, f, engine, **kwds)\u001b[0m\n\u001b[0;32m    930\u001b[0m \u001b[1;33m\u001b[0m\u001b[0m\n\u001b[0;32m    931\u001b[0m         \u001b[0mself\u001b[0m\u001b[1;33m.\u001b[0m\u001b[0mhandles\u001b[0m\u001b[1;33m:\u001b[0m \u001b[0mIOHandles\u001b[0m \u001b[1;33m|\u001b[0m \u001b[1;32mNone\u001b[0m \u001b[1;33m=\u001b[0m \u001b[1;32mNone\u001b[0m\u001b[1;33m\u001b[0m\u001b[1;33m\u001b[0m\u001b[0m\n\u001b[1;32m--> 932\u001b[1;33m         \u001b[0mself\u001b[0m\u001b[1;33m.\u001b[0m\u001b[0m_engine\u001b[0m \u001b[1;33m=\u001b[0m \u001b[0mself\u001b[0m\u001b[1;33m.\u001b[0m\u001b[0m_make_engine\u001b[0m\u001b[1;33m(\u001b[0m\u001b[0mf\u001b[0m\u001b[1;33m,\u001b[0m \u001b[0mself\u001b[0m\u001b[1;33m.\u001b[0m\u001b[0mengine\u001b[0m\u001b[1;33m)\u001b[0m\u001b[1;33m\u001b[0m\u001b[1;33m\u001b[0m\u001b[0m\n\u001b[0m\u001b[0;32m    933\u001b[0m \u001b[1;33m\u001b[0m\u001b[0m\n\u001b[0;32m    934\u001b[0m     \u001b[1;32mdef\u001b[0m \u001b[0mclose\u001b[0m\u001b[1;33m(\u001b[0m\u001b[0mself\u001b[0m\u001b[1;33m)\u001b[0m\u001b[1;33m:\u001b[0m\u001b[1;33m\u001b[0m\u001b[1;33m\u001b[0m\u001b[0m\n",
      "\u001b[1;32m~\\anaconda3\\lib\\site-packages\\pandas\\io\\parsers\\readers.py\u001b[0m in \u001b[0;36m_make_engine\u001b[1;34m(self, f, engine)\u001b[0m\n\u001b[0;32m   1214\u001b[0m             \u001b[1;31m# \"Union[str, PathLike[str], ReadCsvBuffer[bytes], ReadCsvBuffer[str]]\"\u001b[0m\u001b[1;33m\u001b[0m\u001b[1;33m\u001b[0m\u001b[0m\n\u001b[0;32m   1215\u001b[0m             \u001b[1;31m# , \"str\", \"bool\", \"Any\", \"Any\", \"Any\", \"Any\", \"Any\"\u001b[0m\u001b[1;33m\u001b[0m\u001b[1;33m\u001b[0m\u001b[0m\n\u001b[1;32m-> 1216\u001b[1;33m             self.handles = get_handle(  # type: ignore[call-overload]\n\u001b[0m\u001b[0;32m   1217\u001b[0m                 \u001b[0mf\u001b[0m\u001b[1;33m,\u001b[0m\u001b[1;33m\u001b[0m\u001b[1;33m\u001b[0m\u001b[0m\n\u001b[0;32m   1218\u001b[0m                 \u001b[0mmode\u001b[0m\u001b[1;33m,\u001b[0m\u001b[1;33m\u001b[0m\u001b[1;33m\u001b[0m\u001b[0m\n",
      "\u001b[1;32m~\\anaconda3\\lib\\site-packages\\pandas\\io\\common.py\u001b[0m in \u001b[0;36mget_handle\u001b[1;34m(path_or_buf, mode, encoding, compression, memory_map, is_text, errors, storage_options)\u001b[0m\n\u001b[0;32m    784\u001b[0m         \u001b[1;32mif\u001b[0m \u001b[0mioargs\u001b[0m\u001b[1;33m.\u001b[0m\u001b[0mencoding\u001b[0m \u001b[1;32mand\u001b[0m \u001b[1;34m\"b\"\u001b[0m \u001b[1;32mnot\u001b[0m \u001b[1;32min\u001b[0m \u001b[0mioargs\u001b[0m\u001b[1;33m.\u001b[0m\u001b[0mmode\u001b[0m\u001b[1;33m:\u001b[0m\u001b[1;33m\u001b[0m\u001b[1;33m\u001b[0m\u001b[0m\n\u001b[0;32m    785\u001b[0m             \u001b[1;31m# Encoding\u001b[0m\u001b[1;33m\u001b[0m\u001b[1;33m\u001b[0m\u001b[0m\n\u001b[1;32m--> 786\u001b[1;33m             handle = open(\n\u001b[0m\u001b[0;32m    787\u001b[0m                 \u001b[0mhandle\u001b[0m\u001b[1;33m,\u001b[0m\u001b[1;33m\u001b[0m\u001b[1;33m\u001b[0m\u001b[0m\n\u001b[0;32m    788\u001b[0m                 \u001b[0mioargs\u001b[0m\u001b[1;33m.\u001b[0m\u001b[0mmode\u001b[0m\u001b[1;33m,\u001b[0m\u001b[1;33m\u001b[0m\u001b[1;33m\u001b[0m\u001b[0m\n",
      "\u001b[1;31mFileNotFoundError\u001b[0m: [Errno 2] No such file or directory: 'corona_tested_006.csv'"
     ]
    }
   ],
   "source": [
    "df=pd.read_csv('corona_tested_006.csv',index_col='Ind_ID',na_values='None',parse_dates=True) #dataset read using pandas"
   ]
  },
  {
   "cell_type": "code",
   "execution_count": null,
   "id": "9b1df5d2",
   "metadata": {},
   "outputs": [],
   "source": [
    "df.head()"
   ]
  },
  {
   "cell_type": "code",
   "execution_count": null,
   "id": "94d01d5e",
   "metadata": {},
   "outputs": [],
   "source": [
    "df.info() #outline of the date viewed using info method"
   ]
  },
  {
   "cell_type": "markdown",
   "id": "c7b2a00e",
   "metadata": {},
   "source": [
    "# <center><font color='green'>Preprocessing"
   ]
  },
  {
   "cell_type": "code",
   "execution_count": null,
   "id": "2645bff2",
   "metadata": {},
   "outputs": [],
   "source": [
    "df['Test_date']=pd.to_datetime(df['Test_date'],infer_datetime_format=True) #converted time to feature datetime datatype"
   ]
  },
  {
   "cell_type": "code",
   "execution_count": null,
   "id": "03706952",
   "metadata": {},
   "outputs": [],
   "source": [
    "df.duplicated().sum() #check the count of duplicate values."
   ]
  },
  {
   "cell_type": "markdown",
   "id": "fcccdef4",
   "metadata": {},
   "source": [
    "- Pandas duplicated method returns 272207 duplicated rows. Upon review it was found that all the features are categorical except Test_date. Test_date has repeated dates. Because, multiple patients might have been tested on the same day. Due to this combination of multiple repeated dates and repeatation of categorical features values, the duplicated method shows large number of duplicate values."
   ]
  },
  {
   "cell_type": "code",
   "execution_count": null,
   "id": "307362ce",
   "metadata": {},
   "outputs": [],
   "source": [
    "df.isnull().sum() #check the count of missing values."
   ]
  },
  {
   "cell_type": "markdown",
   "id": "bf21c226",
   "metadata": {},
   "source": [
    "- Cough_symptoms and Fever columns had 252 missing values. Age_60_above feature had 127320 missing values and Sex feature had 19563 missing values"
   ]
  },
  {
   "cell_type": "code",
   "execution_count": null,
   "id": "e71a42ef",
   "metadata": {},
   "outputs": [],
   "source": [
    "for col in df.columns[1:]:\n",
    "    print(df[col].unique()) #checking the unique values in each columns"
   ]
  },
  {
   "cell_type": "markdown",
   "id": "a3375d02",
   "metadata": {},
   "source": [
    "- Upon analysis of unique values for each feature it was found that features had some \"None\" values. Hence, those were replaced with nan values for missing value treatment."
   ]
  },
  {
   "cell_type": "code",
   "execution_count": null,
   "id": "e6611432",
   "metadata": {},
   "outputs": [],
   "source": [
    "plt.style.use('seaborn-muted')\n",
    "plt.rcParams['figure.autolayout']= True\n",
    "plt.rcParams['figure.figsize']=(6,3)\n",
    "plt.rcParams['figure.dpi'] = 140  #setting default parameters for visuals\n",
    "plt.rcParams['font.size']= 8.0\n",
    "plt.rcParams['font.style']= 'italic'\n",
    "plt.rcParams['xtick.labelcolor']= 'navy'\n",
    "plt.rcParams['ytick.labelcolor']='navy'\n",
    "plt.rcParams['figure.titleweight']= 'bold'\n",
    "plt.rcParams['axes.labelcolor']= 'navy'\n",
    "plt.rcParams['axes.labelsize']= 'medium'\n",
    "plt.rcParams['axes.labelweight']= 'bold'\n",
    "plt.rcParams['axes.titlecolor']= 'navy'\n",
    "plt.rcParams['axes.titlesize']= 'large'\n",
    "plt.rcParams['axes.titleweight']= 'bold'"
   ]
  },
  {
   "cell_type": "code",
   "execution_count": null,
   "id": "3f0ca056",
   "metadata": {},
   "outputs": [],
   "source": [
    "msno.bar(df) # plotted a bar chart to visualize the missing values.\n",
    "plt.show()"
   ]
  },
  {
   "cell_type": "code",
   "execution_count": null,
   "id": "971063ac",
   "metadata": {},
   "outputs": [],
   "source": [
    "msno.matrix(df.sort_values('Sore_throat')) # plotted a matrix to visualize the relationship between missing values.\n",
    "plt.show()"
   ]
  },
  {
   "cell_type": "code",
   "execution_count": null,
   "id": "46a1d9bc",
   "metadata": {},
   "outputs": [],
   "source": [
    "msno.heatmap(df) # plotted a heatmap to see the correlation between missing values.\n",
    "plt.show()"
   ]
  },
  {
   "cell_type": "markdown",
   "id": "51918f6f",
   "metadata": {},
   "source": [
    "- Matrix and Heatmap plots shows that 'Sore_throat','Shortness_of_breath' and 'Heatmap' had a strong positive correlation which implies that the three features are not missing at random"
   ]
  },
  {
   "cell_type": "code",
   "execution_count": null,
   "id": "ad7b0e85",
   "metadata": {},
   "outputs": [],
   "source": [
    "(df.isnull().sum()/df.shape[0])*100"
   ]
  },
  {
   "cell_type": "code",
   "execution_count": null,
   "id": "64f0ea82",
   "metadata": {},
   "outputs": [],
   "source": [
    "df.shape"
   ]
  },
  {
   "cell_type": "code",
   "execution_count": null,
   "id": "86ba903e",
   "metadata": {},
   "outputs": [],
   "source": [
    "df.dropna(subset=['Cough_symptoms','Fever','Sore_throat','Shortness_of_breath','Headache','Sex'],inplace=True)"
   ]
  },
  {
   "cell_type": "code",
   "execution_count": null,
   "id": "d6cad8f0",
   "metadata": {},
   "outputs": [],
   "source": [
    "# df.to_csv('corona_cleaned.csv')"
   ]
  },
  {
   "cell_type": "code",
   "execution_count": null,
   "id": "5892c85f",
   "metadata": {},
   "outputs": [],
   "source": [
    "corona=df['Corona']\n",
    "df.drop(columns=['Age_60_above','Corona'],inplace=True)"
   ]
  },
  {
   "cell_type": "markdown",
   "id": "55517278",
   "metadata": {},
   "source": [
    "- Age_60_above featurer had 45% of missing values which is around one half of the total records in the dataset. Dropping rows would lead to data loss. Hence, the particular column has been removed. For other columns, particular missing records have been removed from the dataset."
   ]
  },
  {
   "cell_type": "code",
   "execution_count": null,
   "id": "c0bcf1b2",
   "metadata": {},
   "outputs": [],
   "source": [
    "df['Corona']=corona"
   ]
  },
  {
   "cell_type": "code",
   "execution_count": null,
   "id": "eba2f09b",
   "metadata": {},
   "outputs": [],
   "source": [
    "df.head()"
   ]
  },
  {
   "cell_type": "markdown",
   "id": "d2029824",
   "metadata": {},
   "source": [
    "# <center><font color='green'> Univariate Analysis"
   ]
  },
  {
   "cell_type": "code",
   "execution_count": null,
   "id": "1778f379",
   "metadata": {},
   "outputs": [],
   "source": [
    "cs=df.Cough_symptoms.value_counts()\n",
    "f=df.Fever.value_counts()\n",
    "fig=plt.figure()\n",
    "fig.add_subplot(1,2,1)\n",
    "plt.pie(cs,autopct='%.2f%%',labels=cs.index)\n",
    "plt.title('Distribution of Cough Symptoms Data',fontsize=7)\n",
    "fig.add_subplot(1,2,2)\n",
    "plt.pie(f,autopct='%.2f%%',labels=f.index)\n",
    "plt.title('Distribution of Fever Symptoms Data',fontsize=7)\n",
    "plt.show()"
   ]
  },
  {
   "cell_type": "markdown",
   "id": "bfcbf807",
   "metadata": {},
   "source": [
    "Insights\n",
    "  - Around 84% of the total people tested does not have Cough symptoms. Only 15.16% people had cough symptoms.\n",
    "  - Around 92% of the total people tested does not have Cough symptoms. Only 8% people had cough symptoms."
   ]
  },
  {
   "cell_type": "code",
   "execution_count": null,
   "id": "849dfeb4",
   "metadata": {},
   "outputs": [],
   "source": [
    "st=df.Sore_throat.value_counts()\n",
    "sob=df.Shortness_of_breath.value_counts()\n",
    "\n",
    "fig=plt.figure()\n",
    "fig.add_subplot(1,2,1)\n",
    "plt.pie(st,autopct='%.2f%%',labels=st.index)\n",
    "plt.title('Distribution of Sore_throat symptom Data',fontsize=7)\n",
    "fig.add_subplot(1,2,2)\n",
    "plt.pie(sob,autopct='%.2f%%',labels=sob.index)\n",
    "plt.title('Distribution of Shortness_of_breath Symptoms Data',fontsize=7)\n",
    "plt.show()"
   ]
  },
  {
   "cell_type": "markdown",
   "id": "5a567729",
   "metadata": {},
   "source": [
    "Insights:\n",
    "   - Almost all the people tested had not shown the symptom of sore_throat. Only 0.59% reported sore_throat. Based on that we can see that Sore_throat is not a prominant symptom to predict the corona.\n",
    "   - Almost all the people tested had not shown the symptom of Shortness_of_breath. Only 0.57% reported Shortness_of_breath. Based on that we can see that Shortness_of_breath is not a good predictor for corona."
   ]
  },
  {
   "cell_type": "code",
   "execution_count": null,
   "id": "d08d11e1",
   "metadata": {},
   "outputs": [],
   "source": [
    "h=df.Headache.value_counts()\n",
    "sx=df.Sex.value_counts()\n",
    "\n",
    "fig=plt.figure()\n",
    "fig.add_subplot(1,2,1)\n",
    "plt.pie(h,autopct='%.2f%%',labels=h.index)\n",
    "plt.title('Distribution of Headache Symptoms Data',fontsize=7)\n",
    "\n",
    "fig.add_subplot(1,2,2)\n",
    "plt.pie(sx,autopct='%.2f%%',labels=sx.index)\n",
    "plt.title('Distribution of Gender Data',fontsize=7)\n",
    "plt.show()"
   ]
  },
  {
   "cell_type": "markdown",
   "id": "d8a0a151",
   "metadata": {},
   "source": [
    "Insights:\n",
    " - Almost all the people tested had not shown the symptom of Shortness_of_breath. Only 0.87% reported Shortness_of_breath. Based on that we can see that Shortness_of_breath is not a good predictor for corona.\n",
    " - The dataset has almost balanced male and female people being tested. There is no bias between the gender in the dataset."
   ]
  },
  {
   "cell_type": "code",
   "execution_count": null,
   "id": "a147231f",
   "metadata": {},
   "outputs": [],
   "source": [
    "kc=df.Known_contact.value_counts()\n",
    "tl=df.Corona.value_counts()\n",
    "\n",
    "fig=plt.figure()\n",
    "fig.add_subplot(1,2,1)\n",
    "plt.pie(kc,autopct='%.2f%%',labels=kc.index)\n",
    "plt.title('Distribution of Known_contact Data',fontsize=7)\n",
    "\n",
    "fig.add_subplot(1,2,2)\n",
    "plt.pie(tl,autopct='%.2f%%',labels=tl.index)\n",
    "plt.title('Distribution of Target Label',fontsize=7)\n",
    "plt.show()"
   ]
  },
  {
   "cell_type": "markdown",
   "id": "c8ec3176",
   "metadata": {},
   "source": [
    "Insights:\n",
    "   - Around 87% of the people tested are not having any known contact with COVID patients. 3.8 % of people tested had confirmed contact with corona patients who have higher chance of getting corona.\n",
    "   - 9.13% of people tested were returned from Abroad.\n",
    "   - Distribution of Target variable shows that 93% of people tested are resulted with negative. Only 5% percent people are confirmed to be Corona Positive. Around 1.5% of data is denoted as \"Other\". We cannot determine whether the other denote positve or negative. Hence, I have droppe the records which have target label as other."
   ]
  },
  {
   "cell_type": "code",
   "execution_count": null,
   "id": "f6c73652",
   "metadata": {},
   "outputs": [],
   "source": [
    "(df.Corona.value_counts()/df.shape[0])*100"
   ]
  },
  {
   "cell_type": "code",
   "execution_count": null,
   "id": "0a310993",
   "metadata": {},
   "outputs": [],
   "source": [
    "df.drop(index=df[df.Corona=='other'].index,inplace=True)"
   ]
  },
  {
   "cell_type": "markdown",
   "id": "551d8fb3",
   "metadata": {},
   "source": [
    "# <center><font color='green'>Bivariate Analysis"
   ]
  },
  {
   "cell_type": "code",
   "execution_count": null,
   "id": "a210d952",
   "metadata": {},
   "outputs": [],
   "source": [
    "cs1=df.groupby(['Cough_symptoms','Corona']).size()\n",
    "cs1.unstack(level=1).plot.bar(rot=0)\n",
    "plt.title('Cough Symptoms Vs Target')\n",
    "plt.xticks([0,1],['False','True'])\n",
    "plt.legend(['Negative','Positive'],title='Corona')\n",
    "plt.show()"
   ]
  },
  {
   "cell_type": "markdown",
   "id": "997499d2",
   "metadata": {},
   "source": [
    "Insights:\n",
    " - People who were tested having Cough symptoms less likely to became Corona positive."
   ]
  },
  {
   "cell_type": "code",
   "execution_count": null,
   "id": "027ab125",
   "metadata": {},
   "outputs": [],
   "source": [
    "f1=df.groupby(['Fever','Corona']).size()\n",
    "f1.unstack(level=1).plot.bar(rot=0)\n",
    "plt.title('Fever Vs Target')\n",
    "plt.xticks([0,1],['False','True'])\n",
    "plt.legend(['Negative','Positive'],title='Corona')\n",
    "plt.show()"
   ]
  },
  {
   "cell_type": "markdown",
   "id": "90e632e4",
   "metadata": {},
   "source": [
    "Insights:\n",
    "   - The number of people having fever with corona test results negative is higher compare to people with fever and corona positive."
   ]
  },
  {
   "cell_type": "code",
   "execution_count": null,
   "id": "77a533f4",
   "metadata": {},
   "outputs": [],
   "source": [
    "st1=df.groupby(['Sore_throat','Corona']).size()\n",
    "st1.unstack(level=1).plot.bar(rot=0)\n",
    "plt.title('Sore_Throat Vs Target')\n",
    "plt.xticks([0,1],['False','True'])\n",
    "plt.legend(['Negative','Positive'],title='Corona')\n",
    "plt.show()"
   ]
  },
  {
   "cell_type": "markdown",
   "id": "9bace733",
   "metadata": {},
   "source": [
    "Insights:\n",
    "- People with no sore throat symptom is more than people having sore throat.\n",
    "- Interestingly, people who all are tested having sore throat symptom ended up with corona positive. "
   ]
  },
  {
   "cell_type": "code",
   "execution_count": null,
   "id": "b4cd8016",
   "metadata": {},
   "outputs": [],
   "source": [
    "sb1=df.groupby(['Shortness_of_breath','Corona']).size()\n",
    "sb1.unstack(level=1).plot.bar(rot=0)\n",
    "plt.title('Shortness_of_breath Vs Target')\n",
    "plt.xticks([0,1],['False','True'])\n",
    "plt.legend(['Negative','Positive'],title='Corona')\n",
    "plt.show()"
   ]
  },
  {
   "cell_type": "markdown",
   "id": "3842b0e1",
   "metadata": {},
   "source": [
    "Insights:\n",
    "- People with no breathing issues is more than people having breathing issues.\n",
    "- Interestingly, people who all are tested having breathing issues ended up with corona positive."
   ]
  },
  {
   "cell_type": "code",
   "execution_count": null,
   "id": "728ddc6e",
   "metadata": {},
   "outputs": [],
   "source": [
    "h1=df.groupby(['Headache','Corona']).size()\n",
    "h1.unstack(level=1).plot.bar(rot=0)\n",
    "plt.title('Headache Vs Target')\n",
    "plt.xticks([0,1],['False','True'])\n",
    "plt.legend(['Negative','Positive'],title='Corona')\n",
    "plt.show()"
   ]
  },
  {
   "cell_type": "markdown",
   "id": "42600baa",
   "metadata": {},
   "source": [
    "Insights:\n",
    "- Similarly, all the tested individuals who are having headache certainly having Corona. But, number of positive patients is smaller in number."
   ]
  },
  {
   "cell_type": "code",
   "execution_count": null,
   "id": "ae40d442",
   "metadata": {},
   "outputs": [],
   "source": [
    "s1=df.groupby(['Sex','Corona']).size()\n",
    "pl=s1.unstack(level=1).plot.bar(rot=0,figsize=(6,4))\n",
    "pl.set_title('Sex Vs Target')\n",
    "pl.set_xticks([0,1],['Female','Male'])\n",
    "pl.legend(['Negative','Positive'],title='Corona')\n",
    "for g in pl.patches:\n",
    "    pl.annotate(format(g.get_height()),\n",
    "                   (g.get_x() + g.get_width() / 2., g.get_height()),\n",
    "                   ha = 'center', va = 'center',\n",
    "                   xytext = (0, 5),\n",
    "                   textcoords = 'offset points',fontsize=7,color='purple')\n",
    "plt.show()"
   ]
  },
  {
   "cell_type": "markdown",
   "id": "9b06c1d1",
   "metadata": {},
   "source": [
    "Insights:\n",
    "- The number of corona positive male patients is higher than the number of female covid positive patients."
   ]
  },
  {
   "cell_type": "code",
   "execution_count": null,
   "id": "b3498e25",
   "metadata": {},
   "outputs": [],
   "source": [
    "kc1=df.groupby(['Known_contact','Corona']).size()\n",
    "pl=kc1.unstack(level=1).plot.bar(rot=0,figsize=(6,4))\n",
    "pl.set_title('Known Contact Vs Target')\n",
    "pl.set_xticks([0,1,2],['Abroad','Contact w/t Cofirmed','Other'])\n",
    "pl.legend(['Negative','Positive'],title='Corona')\n",
    "for g in pl.patches:\n",
    "    pl.annotate(format(g.get_height()),\n",
    "                   (g.get_x() + g.get_width() / 2., g.get_height()),\n",
    "                   ha = 'center', va = 'center',\n",
    "                   xytext = (0, 5),\n",
    "                   textcoords = 'offset points',fontsize=7,color='purple')\n",
    "plt.show()"
   ]
  },
  {
   "cell_type": "markdown",
   "id": "2dce523f",
   "metadata": {},
   "source": [
    "Insights:\n",
    "- People tested who had contact with covid confirmed patients are being covid positive in high numbers (6835) following with other factors (5266)."
   ]
  },
  {
   "cell_type": "markdown",
   "id": "dcfa308c",
   "metadata": {},
   "source": [
    "# <center><font color='green'> Encoding"
   ]
  },
  {
   "cell_type": "code",
   "execution_count": null,
   "id": "93be15e3",
   "metadata": {},
   "outputs": [],
   "source": [
    "le=sklearn.preprocessing.LabelEncoder()\n",
    "for col in df.columns[1:]:\n",
    "    if col!='Known_contact':\n",
    "        df[col]=le.fit_transform(df[col])"
   ]
  },
  {
   "cell_type": "code",
   "execution_count": null,
   "id": "2481faf3",
   "metadata": {},
   "outputs": [],
   "source": [
    "ohe=sklearn.preprocessing.OneHotEncoder(sparse=False)\n",
    "ohe_encoded=ohe.fit_transform(df[['Known_contact']])\n",
    "e=pd.DataFrame(ohe_encoded,columns=['Kc0','Kc1','Kc2'])"
   ]
  },
  {
   "cell_type": "code",
   "execution_count": null,
   "id": "8e4bb27e",
   "metadata": {},
   "outputs": [],
   "source": [
    "df[df['Corona']==0].groupby('Test_date')['Corona'].count().plot(kind='line',figsize=(15,7),label='Negative',lw=3)\n",
    "df[df['Corona']==1].groupby('Test_date')['Corona'].count().plot(kind='line',figsize=(15,7),label='Positve',lw=3)\n",
    "plt.legend(title='Corona',title_fontsize=16,labelcolor=['navy','green'],fontsize=15,fancybox=True,shadow=True,facecolor='whitesmoke')\n",
    "plt.title('Trend of Corona Test results',fontsize=20)\n",
    "plt.xticks(fontsize=14)\n",
    "plt.xlabel('Test_Date',fontsize=14)\n",
    "plt.yticks(fontsize=14)\n",
    "plt.ylabel('Count',fontsize=14)\n",
    "plt.grid()\n",
    "plt.show()"
   ]
  },
  {
   "cell_type": "markdown",
   "id": "758913ed",
   "metadata": {},
   "source": [
    "Insights:\n",
    "   - From the graph, we can see that rate of covid positive results is almost constant in the entire period of time except between April and May 2020. During that time there were some fluctuations could be seen in the graph.\n",
    "   - There were ups and downs in the covid negative rate, which shows that the no. of tests performed is not uniform over the time. Especially during the period of April 2020 and May 2020, the no.of tests performed reached the highest and lowest point."
   ]
  },
  {
   "cell_type": "code",
   "execution_count": null,
   "id": "4e32e546",
   "metadata": {},
   "outputs": [],
   "source": [
    "df.index=range(df.shape[0])"
   ]
  },
  {
   "cell_type": "code",
   "execution_count": null,
   "id": "bfd347e0",
   "metadata": {},
   "outputs": [],
   "source": [
    "df=pd.merge_asof(df,e,left_index=True,right_index=True)\n",
    "df"
   ]
  },
  {
   "cell_type": "code",
   "execution_count": null,
   "id": "d1ecfc3c",
   "metadata": {},
   "outputs": [],
   "source": [
    "#11th March till 15th April as a training and validation set. From 16th April till 30th April as a test set\n",
    "df_train=df.query(\"Test_date>='2020-03-11' & Test_date<='2020-04-15'\")\n",
    "df_train"
   ]
  },
  {
   "cell_type": "code",
   "execution_count": null,
   "id": "d1116dfb",
   "metadata": {},
   "outputs": [],
   "source": [
    "X=df_train.drop(columns=['Test_date','Corona','Known_contact'])\n",
    "y=df_train['Corona']"
   ]
  },
  {
   "cell_type": "code",
   "execution_count": null,
   "id": "12ef722a",
   "metadata": {},
   "outputs": [],
   "source": [
    "df_test=df.query(\"Test_date>='2020-04-16' & Test_date<='2020-04-30'\")\n",
    "df_test"
   ]
  },
  {
   "cell_type": "code",
   "execution_count": null,
   "id": "4a181ec7",
   "metadata": {},
   "outputs": [],
   "source": [
    "test_x=df_test.drop(columns=[ 'Test_date','Sex', \"Known_contact\",\"Kc0\",\"Corona\"])\n",
    "test_y=df_test['Corona']"
   ]
  },
  {
   "cell_type": "code",
   "execution_count": null,
   "id": "bae446cb",
   "metadata": {},
   "outputs": [],
   "source": [
    "from sklearn.feature_selection import SelectKBest,chi2"
   ]
  },
  {
   "cell_type": "code",
   "execution_count": null,
   "id": "abba0349",
   "metadata": {},
   "outputs": [],
   "source": [
    "sk=SelectKBest(score_func=chi2,k='all')\n",
    "sk.fit(X,y)"
   ]
  },
  {
   "cell_type": "code",
   "execution_count": null,
   "id": "59489c0d",
   "metadata": {},
   "outputs": [],
   "source": [
    "sns.barplot(x=X.columns,y=sk.scores_)\n",
    "plt.xticks(rotation=45)\n",
    "plt.title('Feature Importance Graph')\n",
    "plt.show()"
   ]
  },
  {
   "cell_type": "markdown",
   "id": "e136c736",
   "metadata": {},
   "source": [
    "- Sex, Known Contact Abroad features having less importance in the prediction of corona positive patients compare to other features. Hence, I am planning to drop those two features from the dataset"
   ]
  },
  {
   "cell_type": "code",
   "execution_count": null,
   "id": "92ec7eb3",
   "metadata": {},
   "outputs": [],
   "source": [
    "X=df_train.drop(columns=[ 'Test_date','Sex', \"Known_contact\",\"Kc0\",\"Corona\"])\n",
    "y=df_train['Corona']"
   ]
  },
  {
   "cell_type": "code",
   "execution_count": null,
   "id": "8a5cdc9f",
   "metadata": {},
   "outputs": [],
   "source": [
    "y.value_counts()"
   ]
  },
  {
   "cell_type": "markdown",
   "id": "a97ba309",
   "metadata": {},
   "source": [
    "- The number of Postive labels and Negative labels are not equal. If we build the model with this data, it might create a bias in the model prediction. In order avoid the bias, we need to perform downsampling to make the data labels balanced."
   ]
  },
  {
   "cell_type": "code",
   "execution_count": null,
   "id": "68446c9f",
   "metadata": {},
   "outputs": [],
   "source": [
    "from imblearn.under_sampling import RandomUnderSampler"
   ]
  },
  {
   "cell_type": "code",
   "execution_count": null,
   "id": "3bf7c05d",
   "metadata": {},
   "outputs": [],
   "source": [
    "rm=RandomUnderSampler(sampling_strategy=1,random_state=42)\n",
    "X,y=rm.fit_resample(X,y)\n",
    "test_x,test_y=rm.fit_resample(test_x,test_y)"
   ]
  },
  {
   "cell_type": "code",
   "execution_count": null,
   "id": "f4b71178",
   "metadata": {},
   "outputs": [],
   "source": [
    "y.value_counts()"
   ]
  },
  {
   "cell_type": "markdown",
   "id": "2d9a3b49",
   "metadata": {},
   "source": [
    "- We can see that the data has became balance after downsampling using RandomUnderSampler"
   ]
  },
  {
   "cell_type": "markdown",
   "id": "756bfbe4",
   "metadata": {},
   "source": [
    "# <center><font color='green'>Model Building"
   ]
  },
  {
   "cell_type": "code",
   "execution_count": null,
   "id": "c8e71149",
   "metadata": {},
   "outputs": [],
   "source": [
    "from sklearn.preprocessing import StandardScaler\n",
    "from sklearn.linear_model import LogisticRegression\n",
    "from sklearn.svm import SVC\n",
    "from sklearn.tree import DecisionTreeClassifier\n",
    "from sklearn.ensemble import RandomForestClassifier\n",
    "from xgboost import XGBClassifier\n",
    "from lightgbm import LGBMClassifier\n",
    "from sklearn.model_selection import train_test_split\n",
    "from sklearn.metrics import classification_report,confusion_matrix,plot_confusion_matrix,accuracy_score,precision_score, recall_score,f1_score,RocCurveDisplay,roc_auc_score,roc_curve"
   ]
  },
  {
   "cell_type": "code",
   "execution_count": null,
   "id": "cbcde4f7",
   "metadata": {},
   "outputs": [],
   "source": [
    "x_train,x_test,y_train,y_test=train_test_split(X,y,test_size=0.2,random_state=42)"
   ]
  },
  {
   "cell_type": "markdown",
   "id": "c51f016c",
   "metadata": {},
   "source": [
    "# <center><font color='green'>Model 1: Logistic Regression"
   ]
  },
  {
   "cell_type": "code",
   "execution_count": null,
   "id": "caec703e",
   "metadata": {},
   "outputs": [],
   "source": [
    "lr=LogisticRegression(C=0.1, max_iter=50)\n",
    "lr.fit(x_train,y_train)\n",
    "plot_confusion_matrix(lr,x_test,y_test,display_labels=['Negative','Positive'],cmap='ocean',colorbar=False)\n",
    "plt.show()"
   ]
  },
  {
   "cell_type": "code",
   "execution_count": null,
   "id": "78eb4690",
   "metadata": {},
   "outputs": [],
   "source": [
    "def parameter_tuning(model,param_grid):\n",
    "    gcv=GridSearchCV(model,param_grid=param_grid,cv=10,scoring='f1',verbose=3)\n",
    "\n",
    "    gcv.fit(x_train,y_train)\n",
    "\n",
    "    return gcv.best_estimator_"
   ]
  },
  {
   "cell_type": "code",
   "execution_count": null,
   "id": "a4bbf831",
   "metadata": {},
   "outputs": [],
   "source": [
    "# param_grid=dict(C=[0.0001,0.001,0.01,0.1],max_iter=[50,100,200,300,400,500])\n",
    "# parameter_tuning(lr,param_grid)"
   ]
  },
  {
   "cell_type": "code",
   "execution_count": null,
   "id": "530316fc",
   "metadata": {},
   "outputs": [],
   "source": [
    "from sklearn.model_selection import GridSearchCV"
   ]
  },
  {
   "cell_type": "markdown",
   "id": "1f7bf38f",
   "metadata": {},
   "source": [
    "# <center><font color='green'>Model 2: Support Vector Machine"
   ]
  },
  {
   "cell_type": "code",
   "execution_count": null,
   "id": "b621b344",
   "metadata": {},
   "outputs": [],
   "source": [
    "svc=SVC(C=0.1, gamma=10)\n",
    "svc.fit(x_train,y_train)"
   ]
  },
  {
   "cell_type": "code",
   "execution_count": null,
   "id": "0c4cf63b",
   "metadata": {},
   "outputs": [],
   "source": [
    "# params_grid=dict(C=[0.01,0.1,1,10,100],gamma=[0.1,1,10])"
   ]
  },
  {
   "cell_type": "markdown",
   "id": "26a83d8f",
   "metadata": {},
   "source": [
    "# <center><font color='green'>Model 3: Random Forest Classifier"
   ]
  },
  {
   "cell_type": "code",
   "execution_count": null,
   "id": "6dfb9e2b",
   "metadata": {},
   "outputs": [],
   "source": [
    "rfc=RandomForestClassifier(max_features=2, n_estimators=50, warm_start=True)\n",
    "rfc.fit(x_train,y_train)"
   ]
  },
  {
   "cell_type": "code",
   "execution_count": null,
   "id": "dfade0b3",
   "metadata": {},
   "outputs": [],
   "source": [
    "plot_confusion_matrix(rfc,x_test,y_test,display_labels=['Negative','Positive'],cmap='ocean',colorbar=False)\n",
    "plt.show()"
   ]
  },
  {
   "cell_type": "code",
   "execution_count": null,
   "id": "9d05b071",
   "metadata": {},
   "outputs": [],
   "source": [
    "# params_grid = dict(n_estimators=[50,100,200,300,400],\n",
    "#     max_features=list(range(2,11)))"
   ]
  },
  {
   "cell_type": "markdown",
   "id": "24f0af46",
   "metadata": {},
   "source": [
    "# <center><font color='green'>Model 4: XGBoost Classifier"
   ]
  },
  {
   "cell_type": "code",
   "execution_count": null,
   "id": "7d4e0549",
   "metadata": {},
   "outputs": [],
   "source": [
    "xgb=XGBClassifier(learning_rate=0.05,n_estimators=300)\n",
    "xgb.fit(x_train,y_train)"
   ]
  },
  {
   "cell_type": "code",
   "execution_count": null,
   "id": "4f5bdeb1",
   "metadata": {},
   "outputs": [],
   "source": [
    "plot_confusion_matrix(xgb,x_test,y_test,display_labels=['Negative','Positive'],cmap='ocean',colorbar=False)\n",
    "plt.show()"
   ]
  },
  {
   "cell_type": "code",
   "execution_count": null,
   "id": "b6edcae8",
   "metadata": {},
   "outputs": [],
   "source": [
    "# params_grid = dict(n_estimators=[50,100,200,300],learning_rate=[0.01,0.05,0.1,0.3,0.5])"
   ]
  },
  {
   "cell_type": "markdown",
   "id": "74522344",
   "metadata": {},
   "source": [
    "# <center><font color='green'>Model 5: LightGBM Classifier"
   ]
  },
  {
   "cell_type": "code",
   "execution_count": null,
   "id": "3578cd5e",
   "metadata": {},
   "outputs": [],
   "source": [
    "lgb=LGBMClassifier(learning_rate=0.01, n_estimators=400)\n",
    "lgb.fit(x_train,y_train)"
   ]
  },
  {
   "cell_type": "code",
   "execution_count": null,
   "id": "99491699",
   "metadata": {},
   "outputs": [],
   "source": [
    "# params_grid = dict(n_estimators=[300,400,500],learning_rate=[0.01,0.05,0.1,0.3,0.5])"
   ]
  },
  {
   "cell_type": "code",
   "execution_count": null,
   "id": "06c59e1c",
   "metadata": {},
   "outputs": [],
   "source": [
    "plot_confusion_matrix(lgb,x_test,y_test,display_labels=['Negative','Positive'],cmap='ocean',colorbar=False)\n",
    "plt.show()"
   ]
  },
  {
   "cell_type": "markdown",
   "id": "06325cb9",
   "metadata": {},
   "source": [
    "# <center><font color='green'>Model 6: KNN Classifier"
   ]
  },
  {
   "cell_type": "code",
   "execution_count": null,
   "id": "0bf91ee3",
   "metadata": {},
   "outputs": [],
   "source": [
    "from sklearn.neighbors import KNeighborsClassifier"
   ]
  },
  {
   "cell_type": "code",
   "execution_count": null,
   "id": "174317ec",
   "metadata": {},
   "outputs": [],
   "source": [
    "knn=KNeighborsClassifier(leaf_size=5, n_neighbors=10)\n",
    "knn.fit(x_train,y_train)"
   ]
  },
  {
   "cell_type": "code",
   "execution_count": null,
   "id": "dcec25e0",
   "metadata": {},
   "outputs": [],
   "source": [
    "# param_grid={'n_neighbors':list(range(5,30)),'leaf_size':list(range(5,15))}"
   ]
  },
  {
   "cell_type": "code",
   "execution_count": null,
   "id": "7a7fa9ea",
   "metadata": {},
   "outputs": [],
   "source": [
    "plot_confusion_matrix(knn,x_test,y_test,display_labels=['Negative','Positive'],cmap='ocean',colorbar=False)\n",
    "plt.show()"
   ]
  },
  {
   "cell_type": "markdown",
   "id": "4efd4b98",
   "metadata": {},
   "source": [
    "# <center><font color='green'>Performance Evaluation"
   ]
  },
  {
   "cell_type": "code",
   "execution_count": null,
   "id": "79586ab4",
   "metadata": {},
   "outputs": [],
   "source": [
    "from sklearn.model_selection import cross_val_score"
   ]
  },
  {
   "cell_type": "code",
   "execution_count": null,
   "id": "94f362c6",
   "metadata": {},
   "outputs": [],
   "source": [
    "models={'LogisticRegression':lr,'SVM':svc,'RandomForest':rfc,'XGBoost':xgb,'LightGBM':lgb,'KNN':knn}\n",
    "performance_test={}\n",
    "performance_train={}\n",
    "cv_score={}\n",
    "for mname,val in models.items():\n",
    "\n",
    "    val.fit(x_train,y_train)\n",
    "    y_pred_test=val.predict(x_test)\n",
    "    y_pred_train=val.predict(x_train)\n",
    "\n",
    "    Accuracy_train=round(accuracy_score(y_train,y_pred_train)*100,2)\n",
    "    Accuracy_test=round(accuracy_score(y_test,y_pred_test)*100,2)\n",
    "    \n",
    "    Precision_train=round(precision_score(y_train,y_pred_train)*100,2)\n",
    "    Precision_test=round(precision_score(y_test,y_pred_test)*100,2)\n",
    "    \n",
    "    Recall_train=round(recall_score(y_train,y_pred_train)*100,2)\n",
    "    Recall_test=round(recall_score(y_test,y_pred_test)*100,2)\n",
    "    \n",
    "    f1_train=round(f1_score(y_train,y_pred_train)*100,2)\n",
    "    f1_test=round(f1_score(y_test,y_pred_test)*100,2)\n",
    "    \n",
    "    performance_train[mname]=[Accuracy_train,Precision_train,Recall_train,f1_train]\n",
    "    performance_test[mname]=[Accuracy_test, Precision_test, Recall_test,f1_test]\n",
    "    \n",
    "    cvs=cross_val_score(val,X,y,cv=10,scoring='f1')\n",
    "    cv_score[mname]=cvs.mean()*100"
   ]
  },
  {
   "cell_type": "code",
   "execution_count": null,
   "id": "d4e9482d",
   "metadata": {},
   "outputs": [],
   "source": [
    "perf_df_train=pd.DataFrame(performance_train,index=['Accuracy','Precision','Recall','F1']).T\n",
    "perf_df_test=pd.DataFrame(performance_test,index=['Accuracy','Precision','Recall','F1']).T\n",
    "perf_df_cv=pd.DataFrame(cv_score,index=['cross_val_score']).T"
   ]
  },
  {
   "cell_type": "code",
   "execution_count": null,
   "id": "c89d7c63",
   "metadata": {},
   "outputs": [],
   "source": [
    "import plotly.graph_objects as go\n",
    "\n",
    "fig = go.Figure(data=[go.Table(\n",
    "    header=dict(values=['<b>Model Name','<b>Accuracy (%)','<b>Precision (%)','<b>Recall (%)','<b>F1-Score (%)'],\n",
    "                fill_color='darkmagenta',line=dict(color='white',width=3),font=dict(size=14,color='white'),\n",
    "                align='center',height=45),\n",
    "    cells=dict(values=[perf_df_train.index,perf_df_train.Accuracy,perf_df_train.Precision,perf_df_train.Recall,perf_df_train.F1],\n",
    "               fill_color='greenyellow',line=dict(color='white',width=3),font=dict(size=13),\n",
    "               align='center',height=45))\n",
    "])\n",
    "fig.update_layout(title=dict(text='<b>Performance Metrics of Train Data',font=dict(size=18),x=0.5))\n",
    "fig.show()"
   ]
  },
  {
   "cell_type": "code",
   "execution_count": null,
   "id": "90f80682",
   "metadata": {},
   "outputs": [],
   "source": [
    "import plotly.graph_objects as go\n",
    "\n",
    "fig = go.Figure(data=[go.Table(\n",
    "    header=dict(values=['<b>Model Name','<b>Accuracy (%)','<b>Precision (%)','<b>Recall (%)','<b>F1-Score (%)'],\n",
    "                fill_color='darkmagenta',line=dict(color='white',width=3),font=dict(size=14,color='white'),\n",
    "                align='center',height=45),\n",
    "    cells=dict(values=[perf_df_test.index,perf_df_test.Accuracy,perf_df_test.Precision,perf_df_test.Recall,perf_df_test.F1],\n",
    "               fill_color='greenyellow',line=dict(color='white',width=3),font=dict(size=13,color='black'),\n",
    "               align='center',height=45))\n",
    "])\n",
    "\n",
    "fig.update_layout(title=dict(text='<b>Performance Metrics of Test Data',font=dict(size=18),x=0.5))\n",
    "fig.show()"
   ]
  },
  {
   "cell_type": "code",
   "execution_count": null,
   "id": "ad92d346",
   "metadata": {},
   "outputs": [],
   "source": [
    "f=px.bar(perf_df_train,y='F1',text_auto=True)\n",
    "f.update_traces(textposition='outside',textfont=dict(color='darkviolet'),texttemplate='<b>%{y:.2f}%',marker=dict(color='#11aaaa',pattern=dict(shape='x',size=7,\n",
    "                                                                                                         fgcolor='black',bgcolor='#11aaaa'),line=dict(color='palegreen', width=3)))\n",
    "f.update_layout(title_x=0.5,title_text='<b>F1-Score Train Data',font=dict(color='navy',size=14),xaxis=dict(title='Model Names'),yaxis=dict(title='F1-Score'))"
   ]
  },
  {
   "cell_type": "code",
   "execution_count": null,
   "id": "11e21019",
   "metadata": {},
   "outputs": [],
   "source": [
    "f=px.bar(perf_df_test,y='F1',text_auto=True)\n",
    "f.update_traces(textposition='outside',textfont=dict(color='darkviolet'),texttemplate='<b>%{y:.2f}%',marker=dict(color='#11aaaa',pattern=dict(shape='x',size=7,\n",
    "                                                                                                         fgcolor='black',bgcolor='#11aaaa'),line=dict(color='chartreuse', width=3)))\n",
    "f.update_layout(title_x=0.5,title_text='<b>F1-Score Test Data',font=dict(color='navy',size=14),xaxis=dict(title='Model Names'),yaxis=dict(title='F1-Score'))"
   ]
  },
  {
   "cell_type": "code",
   "execution_count": null,
   "id": "66bde1ee",
   "metadata": {},
   "outputs": [],
   "source": [
    "f=px.bar(perf_df_cv,y='cross_val_score',text_auto=True)\n",
    "f.update_traces(textposition='outside',textfont=dict(color='darkviolet'),texttemplate='<b>%{y:.2f}%',marker=dict(color='#11aaaa',pattern=dict(shape='x',size=7,\n",
    "                                                                                                         fgcolor='black',bgcolor='#11aaaa'),line=dict(color='chartreuse', width=3)))\n",
    "f.update_layout(title_x=0.5,title_text='<b>Cross Validation Score',font=dict(color='navy',size=14),xaxis=dict(title='Model Names'),yaxis=dict(title='Cross_val_score'))"
   ]
  },
  {
   "cell_type": "markdown",
   "id": "deb0c542",
   "metadata": {},
   "source": [
    "# <center><font color='green'>Final Model"
   ]
  },
  {
   "cell_type": "code",
   "execution_count": null,
   "id": "0915a39a",
   "metadata": {},
   "outputs": [],
   "source": [
    "from sklearn.ensemble import VotingClassifier\n",
    "vc=VotingClassifier(estimators=[('svm',svc),('xgb',xgb),('lgb',lgb)],voting='hard')\n",
    "vc.fit(x_train,y_train)\n",
    "vc_pred=vc.predict(x_test)"
   ]
  },
  {
   "cell_type": "code",
   "execution_count": null,
   "id": "730663c2",
   "metadata": {},
   "outputs": [],
   "source": [
    "plot_confusion_matrix(vc,x_test,y_test,display_labels=['Negative','Positive'],cmap='ocean',colorbar=False)\n",
    "plt.show()"
   ]
  },
  {
   "cell_type": "code",
   "execution_count": null,
   "id": "f88b6bd9",
   "metadata": {},
   "outputs": [],
   "source": [
    "auc = roc_auc_score(y_test, vc_pred) #plotting the AUC & ROC curve for the Final Model\n",
    "\n",
    "false_positive_rate, true_positive_rate, thresolds = roc_curve(y_test, vc_pred)\n",
    "plt.figure(figsize=(5,4))\n",
    "plt.axis('auto')\n",
    "plt.xlim([0, 1])\n",
    "plt.ylim([0, 1])\n",
    "plt.title(\"AUC and ROC Curve\",color='#500181')\n",
    "plt.plot(false_positive_rate, true_positive_rate, 'g')\n",
    "plt.fill_between(false_positive_rate, true_positive_rate, facecolor='#11aaaa', alpha=0.7)\n",
    "plt.text(0.95, 0.05, 'AUC = %0.4f' % auc, ha='right', fontsize=12, weight='bold', color='#500181')\n",
    "plt.xlabel(\"False Positive Rate\",color='#500181')\n",
    "plt.ylabel(\"True Positive Rate\",color='#500181')\n",
    "plt.show()"
   ]
  },
  {
   "cell_type": "code",
   "execution_count": null,
   "id": "428b545e",
   "metadata": {},
   "outputs": [],
   "source": [
    "cross_val_score_final=cross_val_score(vc,X,y,scoring='f1').mean() *100 #calcuting performance metrics for final model\n",
    "accuracy_final=accuracy_score(y_test,vc_pred)*100\n",
    "precision_final=precision_score(y_test,vc_pred)*100\n",
    "recall_final=recall_score(y_test,vc_pred)*100\n",
    "f1_final=f1_score(y_test,vc_pred)*100"
   ]
  },
  {
   "cell_type": "code",
   "execution_count": null,
   "id": "2a9de7ec",
   "metadata": {},
   "outputs": [],
   "source": [
    "fig=px.bar(x=['Cross_val_score','Accuracy','Precision','Recall','F1-score'],y=[cross_val_score_final,accuracy_final,precision_final,recall_final,f1_final],text_auto=True)\n",
    "fig.update_traces(textposition='outside',textfont=dict(color='darkviolet'),texttemplate='<b>%{y:.2f}%',marker=dict(color='#11aaaa',pattern=dict(shape='x',size=7,\n",
    "                                                                                                         fgcolor='black',bgcolor='#11aaaa'),line=dict(color='chartreuse', width=3)))\n",
    "fig.update_layout(title_x=0.5,title_text='<b>Performance Metrics of Final Model',font=dict(color='navy',size=14),xaxis=dict(title='Metrics'),yaxis=dict(title='Score'))"
   ]
  },
  {
   "cell_type": "markdown",
   "id": "c7316b5a",
   "metadata": {},
   "source": [
    "**Summary:**\n",
    "   - I have imported the necessary modules for the project and check the outline of the data.\n",
    "   - I did preprocessing steps to **treat the missing values.**\n",
    "   - I did exploratory analysis to **visualize the distribution of the different features and to identify the relationship between multiple features.**\n",
    "   - I used feature engineering techniques like **Label and OneHot Encoding Techniques** to encode the data.\n",
    "   - I used **RandomUnderSampler method** to treat the **imbalance nature of the dataset.**\n",
    "   - I have used <font color=' darkviolet'>***6 Models (Logistic Regression, KNN, Random Forest, XGBoost, LightGBM and SVM)***</font> \n",
    "for this project.\n",
    "   - I have evaluated the performance of the various models using **Accuracy, Precision, Recall and F1-Score.**\n",
    "   - Based on the Performance Evaluation, it was found that **SVM,XGBoost and LightGBM models did well in predicting the target label.**\n",
    "   - Finally, I created a **Voting classifier with the combination of the three models to accumulate the accuracies** of those models.\n",
    "   - I got an <font color='forestgreen'>**average validation score of 86.23%**</font>  using the Voting Classifier.\n",
    "   - Based on the activities I have performed, I am concluding that <font color='mediumorchid'>**SVM is the best for predicting (Accuracy - 87.15%) the corona as an individual model.**</font> Overall, **Voting Classifier with combination of SVM, XGBoost and LightGBM** is **best for predicting the Corona.**"
   ]
  },
  {
   "cell_type": "markdown",
   "id": "b0371264",
   "metadata": {},
   "source": [
    "# <center><font color='green'>SQL Query Questions"
   ]
  },
  {
   "cell_type": "markdown",
   "id": "1bd56156",
   "metadata": {},
   "source": [
    "- Query 1: Find the number of corona patients who faced shortness of breath.\n",
    "\n",
    "select count(*) num_sob from corona_cleaned where shortness_of_breath='True' and corona='positive';\n",
    "**#Query result: 979**\n",
    "\n",
    "- Query 2: Find the number of negative corona patients who have fever and sore_throat.\n",
    "\n",
    "select count(*) fever_sore_throat from corona_cleaned where fever='True' and sore_throat='True' and corona='negative';\n",
    "**#Query result: 50**\n",
    "- Query 3: Group the data by month and rank the number of positive cases.\n",
    "\n",
    "select *,rank() over(order by total) as 'rank' from (\n",
    "select month(test_date) 'month', count(*) total from corona_cleaned where corona='positive' group by month(test_date)) x order by month;\n",
    " \n",
    "- Query 4: Find the female negative corona patients who faced cough and headache.\n",
    "\n",
    "select Ind_ID from corona_cleaned where sex='female' and corona='negative' and cough_symptoms='True' and headache='True';\n",
    "**#Query result: 32**\n",
    "\n",
    "- Query 5: How many elderly corona patients have faced breathing problems?\n",
    "\n",
    "select count(\\*) Elderly_wt from corona_cleaned where age_60_above='Yes' and shortness_of_breath='True' and corona='positive';\n",
    "**#Query result: 227**\n",
    "\n",
    "- Query 6: Which three symptoms were more common among COVID positive patients?\n",
    "\n",
    "select * from (\n",
    "select 'Cough' symptom, count(if(cough_symptoms='True',1,null)) symptoms_count from corona_cleaned where corona='positive'\n",
    "union select 'Fever',count(if(Fever='True',1,null)) from corona_cleaned where corona='positive'\n",
    "union\n",
    "select 'Sore_throat' ,count(if(sore_throat='True',1,null)) from corona_cleaned where corona='positive'\n",
    "union\n",
    "select 'Shortness_of_breath',count(if(shortness_of_breath='True',1,null)) from corona_cleaned where corona='positive'\n",
    "union\n",
    "select 'Headache', count(if(headache='True',1,null)) from corona_cleaned where corona='positive') x order by symptoms_count desc limit 3;\n",
    "\n",
    "**#Query result: Cough, Fever, Headache**\n",
    "\n",
    "- Query 7: Which symptom was less common among COVID negative people?\n",
    "\n",
    "select * from (\n",
    "select 'Cough' symptom, count(if(cough_symptoms='True',1,null)) symptoms_count from corona_cleaned where corona='negative'\n",
    "union select 'Fever',count(if(Fever='True',1,null)) from corona_cleaned where corona='negative'\n",
    "union\n",
    "select 'Sore_throat' ,count(if(sore_throat='True',1,null)) from corona_cleaned where corona='negative'\n",
    "union\n",
    "select 'Shortness_of_breath',count(if(shortness_of_breath='True',1,null)) from corona_cleaned where corona='negative'\n",
    "union\n",
    "select 'Headache', count(if(headache='True',1,null)) from corona_cleaned where corona='negative') x order by symptoms_count limit 3;\n",
    "\n",
    "**#Query result: Shortness_of_breath, Sore_throat, Headache**\n",
    "\n",
    "- Query 8: What are the most common symptoms among COVID positive males whose known contact was abroad?\n",
    "\n",
    "select * from (\n",
    "select 'Cough' symptom, count(if(cough_symptoms='True',1,null)) symptoms_count from corona_cleaned where corona='positive' and sex='male' and known_contact='Abroad'\n",
    "union select 'Fever',count(if(Fever='True',1,null)) from corona_cleaned where corona='positive' and sex='male' and known_contact='Abroad'\n",
    "union\n",
    "select 'Sore_throat' ,count(if(sore_throat='True',1,null)) from corona_cleaned where corona='positive' and sex='male' and known_contact='Abroad'\n",
    "union\n",
    "select 'Shortness_of_breath',count(if(shortness_of_breath='True',1,null)) from corona_cleaned where corona='positive' and sex='male' and known_contact='Abroad'\n",
    "union\n",
    "select 'Headache', count(if(headache='True',1,null)) from corona_cleaned where corona='positive' and sex='male' and known_contact='Abroad') x order by symptoms_count desc limit 1;\n",
    "\n",
    "**#Query result: Cough**"
   ]
  },
  {
   "cell_type": "markdown",
   "id": "231e7ce4",
   "metadata": {},
   "source": [
    "# <center><font color='green'>--Thank You--"
   ]
  },
  {
   "cell_type": "code",
   "execution_count": null,
   "id": "baeda417",
   "metadata": {},
   "outputs": [],
   "source": []
  }
 ],
 "metadata": {
  "kernelspec": {
   "display_name": "Python 3 (ipykernel)",
   "language": "python",
   "name": "python3"
  },
  "language_info": {
   "codemirror_mode": {
    "name": "ipython",
    "version": 3
   },
   "file_extension": ".py",
   "mimetype": "text/x-python",
   "name": "python",
   "nbconvert_exporter": "python",
   "pygments_lexer": "ipython3",
   "version": "3.9.13"
  }
 },
 "nbformat": 4,
 "nbformat_minor": 5
}
